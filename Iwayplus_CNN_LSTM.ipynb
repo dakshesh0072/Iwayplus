{
  "nbformat": 4,
  "nbformat_minor": 0,
  "metadata": {
    "colab": {
      "provenance": []
    },
    "kernelspec": {
      "name": "python3",
      "display_name": "Python 3"
    },
    "language_info": {
      "name": "python"
    }
  },
  "cells": [
    {
      "cell_type": "markdown",
      "source": [
        "CNN-LSTM"
      ],
      "metadata": {
        "id": "JeYfRVpQTU_3"
      }
    },
    {
      "cell_type": "code",
      "source": [
        "import numpy as np\n",
        "import torch\n",
        "import torch.nn as nn\n",
        "from torch.utils.data import Dataset, DataLoader\n",
        "\n",
        "def sliding_window_dataset(rssi_data, distances, window_size=10):\n",
        "\n",
        "    X, y = [], []\n",
        "    for i in range(len(rssi_data) - window_size + 1):\n",
        "        X.append(rssi_data[i:i+window_size])\n",
        "        y.append(distances[i+window_size-1])\n",
        "    return np.array(X), np.array(y)\n",
        "\n",
        "class RSSIDataset(Dataset):\n",
        "    def __init__(self, X, y):\n",
        "        self.X = torch.tensor(X, dtype=torch.float32).unsqueeze(1)  # Shape: (N, 1, 10)\n",
        "        self.y = torch.tensor(y, dtype=torch.float32).unsqueeze(1)  # Shape: (N, 1)\n",
        "    def __len__(self):\n",
        "        return len(self.X)\n",
        "    def __getitem__(self, idx):\n",
        "        return self.X[idx], self.y[idx]\n",
        "\n",
        "class CNN_LSTM_Model(nn.Module):\n",
        "    def __init__(self):\n",
        "        super(CNN_LSTM_Model, self).__init__()\n",
        "        # 1D CNN: in_channels=1, out_channels=32, kernel_size=3, padding=1\n",
        "        self.cnn = nn.Conv1d(in_channels=1, out_channels=32, kernel_size=3, padding=1)\n",
        "        self.relu = nn.ReLU()\n",
        "        # LSTM: input_size=32, hidden_size=64, num_layers=5\n",
        "        self.lstm = nn.LSTM(input_size=32, hidden_size=64, num_layers=5,\n",
        "                            batch_first=True, dropout=0.2)\n",
        "        # Fully Connected Layers\n",
        "        self.fc1 = nn.Linear(64, 128)\n",
        "        self.fc2 = nn.Linear(128, 1)\n",
        "    def forward(self, x):\n",
        "        # x: (batch, 1, 10)\n",
        "        x = self.cnn(x)           # (batch, 32, 10)\n",
        "        x = self.relu(x)\n",
        "        x = x.permute(0, 2, 1)    # (batch, 10, 32) for LSTM\n",
        "        out, (hn, cn) = self.lstm(x)  # out: (batch, 10, 64)\n",
        "        x = out[:, -1, :]         # Take last time step: (batch, 64)\n",
        "        x = self.relu(self.fc1(x))\n",
        "        x = self.fc2(x)           # (batch, 1)\n",
        "        return x\n",
        "\n",
        "def train_model(model, train_loader, val_loader, epochs=6000, lr=1e-4, device='cpu'):\n",
        "    model.to(device)\n",
        "    optimizer = torch.optim.Adam(model.parameters(), lr=lr)\n",
        "    criterion = nn.MSELoss()\n",
        "    for epoch in range(epochs):\n",
        "        model.train()\n",
        "        for X_batch, y_batch in train_loader:\n",
        "            X_batch, y_batch = X_batch.to(device), y_batch.to(device)\n",
        "            optimizer.zero_grad()\n",
        "            y_pred = model(X_batch)\n",
        "            loss = criterion(y_pred, y_batch)\n",
        "            loss.backward()\n",
        "            optimizer.step()\n",
        "        # Optional: Validation and print progress every 500 epochs\n",
        "        if (epoch+1) % 500 == 0:\n",
        "            model.eval()\n",
        "            val_losses = []\n",
        "            with torch.no_grad():\n",
        "                for X_val, y_val in val_loader:\n",
        "                    X_val, y_val = X_val.to(device), y_val.to(device)\n",
        "                    y_pred = model(X_val)\n",
        "                    val_losses.append(criterion(y_pred, y_val).item())\n",
        "            print(f\"Epoch {epoch+1}/{epochs}, Train Loss: {loss.item():.4f}, Val Loss: {np.mean(val_losses):.4f}\")\n"
      ],
      "metadata": {
        "id": "UPF6xS6TnbMF"
      },
      "execution_count": null,
      "outputs": []
    }
  ]
}